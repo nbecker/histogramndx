{
 "cells": [
  {
   "cell_type": "code",
   "execution_count": 2,
   "metadata": {},
   "outputs": [],
   "source": [
    "import numpy as np\n",
    "from histogramndx import histogram"
   ]
  },
  {
   "cell_type": "code",
   "execution_count": 3,
   "metadata": {},
   "outputs": [],
   "source": [
    "H = histogram ([0,0],[10,10],[1,1])"
   ]
  },
  {
   "cell_type": "code",
   "execution_count": 5,
   "metadata": {},
   "outputs": [],
   "source": [
    "def hist_mean (H):\n",
    "    '''H: N-dim histogram\n",
    "    H.axes = list of aranges of axes\n",
    "    returns a vector which is the weighted sum of the vectors of\n",
    "    the cartesian coordinates of the points in the buckets of the histogram\n",
    "    weighted by the value of the bucket.\n",
    "\n",
    "    In the following formula, a_i are the ith axes:\n",
    "    num = \\sum_{d_0} \\dots \\sum_{d_{n-1}} (a_0[d_0], \\dots ,a_{n-1}[d_{n-1}]) b[d_0 \\dots d_{n-1}]\n",
    "    den = \\sum_{d_0} \\dots \\sum_{d_{n-1}} b[d_0 \\dots d_{n-1}]\n",
    "    '''\n",
    "    from itertools import product\n",
    "    a = np.array([e for e in product(*H.axes)])\n",
    "    bij = H.buckets.flatten()\n",
    "    num = np.dot (bij, a)\n",
    "    den = np.sum(H.buckets)\n",
    "    mean = num/den\n",
    "    return mean\n"
   ]
  },
  {
   "cell_type": "markdown",
   "metadata": {},
   "source": [
    "\n",
    "In the following formula, $a_i$ is the ith axes.  Each axes specifies the values corresponding to the bucket indices, with one axes for each dimension, and each axes is an arange.\n",
    "$b[i,j,k]$ is the value of the bucket at coordinates $[i,j,k]$\n",
    "$$num = \\sum_{d_0} \\dots \\sum_{d_{n-1}} (a_0[d_0], \\dots ,a_{n-1}[d_{n-1}]) \\cdot b[d_0 \\dots d_{n-1}]$$\n",
    "    $$den = \\sum_{d_0} \\dots \\sum_{d_{n-1}} b[d_0 \\dots d_{n-1}]   $$ "
   ]
  },
  {
   "cell_type": "code",
   "execution_count": null,
   "metadata": {},
   "outputs": [],
   "source": []
  }
 ],
 "metadata": {
  "kernelspec": {
   "display_name": "Python 3",
   "language": "python",
   "name": "python3"
  },
  "language_info": {
   "codemirror_mode": {
    "name": "ipython",
    "version": 3
   },
   "file_extension": ".py",
   "mimetype": "text/x-python",
   "name": "python",
   "nbconvert_exporter": "python",
   "pygments_lexer": "ipython3",
   "version": "3.7.2"
  }
 },
 "nbformat": 4,
 "nbformat_minor": 2
}
